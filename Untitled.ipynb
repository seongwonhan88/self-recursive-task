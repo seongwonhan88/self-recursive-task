{
 "cells": [
  {
   "cell_type": "code",
   "execution_count": 298,
   "metadata": {},
   "outputs": [
    {
     "data": {
      "text/plain": [
       "[1, 2, 3, 4, 5, 6, 7, 8, 9, 10, 11, 12, 13, 14, 15]"
      ]
     },
     "execution_count": 298,
     "metadata": {},
     "output_type": "execute_result"
    }
   ],
   "source": [
    "goal = list(range(1,16))\n",
    "goal"
   ]
  },
  {
   "cell_type": "code",
   "execution_count": 288,
   "metadata": {},
   "outputs": [],
   "source": [
    "import random"
   ]
  },
  {
   "cell_type": "code",
   "execution_count": 294,
   "metadata": {},
   "outputs": [],
   "source": [
    "class User():\n",
    "    def __init__(self, name):\n",
    "        self.name = name\n",
    "        self.life = 3\n",
    "    \n",
    "    def play(self):\n",
    "        if self.life < 1:\n",
    "            print('you ran out of life')\n",
    "        else: \n",
    "            self.life -= 1\n",
    "            game = Game('penalty kick')\n",
    "            print(f'{self.name}you\\'re playing {game.name}')\n",
    "            game.how_to()\n",
    "            shoot = int(input('enter the number you want to shoot at: '))            \n",
    "            game.kick(shoot)\n",
    "            print('end game')\n",
    "\n",
    "class Game():\n",
    "    def __init__(self,name):\n",
    "        self.name = name\n",
    "    \n",
    "    def how_to(self):\n",
    "        print('''\n",
    "        \n",
    "            here is the goal\n",
    "        \n",
    "        :::::::::::::::::::::::::::\n",
    "        :[ 1 ][ 2 ][ 3 ][ 4 ][ 5 ]:\n",
    "        :[ 6 ][ 7 ][ 8 ][ 9 ][ 10]:\n",
    "        :[ 11][ 12][ 13][ 14][ 15]:\n",
    "        :          \\o/            :\n",
    "        ----------- @ <------------ World's best goal keeper\n",
    "                   / \\\\\n",
    "        \n",
    "        \n",
    "                    O <--- your ball\n",
    "                    \n",
    "                    o <--- you\n",
    "                   <|>\n",
    "                   / \\\\\n",
    "            \n",
    "            enter the number you want to shoot at:\n",
    "        ''')\n",
    "        \n",
    "    def kick(self, shoot):\n",
    "        self.shoot = shoot\n",
    "        if shoot in random.sample(goal, k=10):\n",
    "            print('goal keeper stopped the ball')\n",
    "        else: \n",
    "            print('you made it!')"
   ]
  },
  {
   "cell_type": "code",
   "execution_count": 295,
   "metadata": {},
   "outputs": [],
   "source": [
    "user1 = User('Seongwon')"
   ]
  },
  {
   "cell_type": "code",
   "execution_count": 296,
   "metadata": {},
   "outputs": [
    {
     "name": "stdout",
     "output_type": "stream",
     "text": [
      "Seongwonyou're playing penalty kick\n",
      "\n",
      "        \n",
      "            here is the goal\n",
      "        \n",
      "        :::::::::::::::::::::::::::\n",
      "        :[ 1 ][ 2 ][ 3 ][ 4 ][ 5 ]:\n",
      "        :[ 6 ][ 7 ][ 8 ][ 9 ][ 10]:\n",
      "        :[ 11][ 12][ 13][ 14][ 15]:\n",
      "        :          \\o/            :\n",
      "        ----------- @ <------------ World's best goal keeper\n",
      "                   / \\\n",
      "        \n",
      "        \n",
      "                    O <--- your ball\n",
      "                    \n",
      "                    o <--- you\n",
      "                   <|>\n",
      "                   / \\\n",
      "            \n",
      "            enter the number you want to shoot at:\n",
      "        \n",
      "enter the number you want to shoot at: 3\n",
      "goal keeper stopped the ball\n",
      "end game\n"
     ]
    }
   ],
   "source": [
    "user1.play()"
   ]
  },
  {
   "cell_type": "code",
   "execution_count": 297,
   "metadata": {},
   "outputs": [
    {
     "data": {
      "text/plain": [
       "2"
      ]
     },
     "execution_count": 297,
     "metadata": {},
     "output_type": "execute_result"
    }
   ],
   "source": [
    "user1.life"
   ]
  },
  {
   "cell_type": "code",
   "execution_count": null,
   "metadata": {},
   "outputs": [],
   "source": []
  }
 ],
 "metadata": {
  "kernelspec": {
   "display_name": "Python 3",
   "language": "python",
   "name": "python3"
  },
  "language_info": {
   "codemirror_mode": {
    "name": "ipython",
    "version": 3
   },
   "file_extension": ".py",
   "mimetype": "text/x-python",
   "name": "python",
   "nbconvert_exporter": "python",
   "pygments_lexer": "ipython3",
   "version": "3.6.6"
  }
 },
 "nbformat": 4,
 "nbformat_minor": 2
}
