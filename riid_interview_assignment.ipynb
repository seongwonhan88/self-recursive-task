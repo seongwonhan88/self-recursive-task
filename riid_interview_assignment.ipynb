{
 "cells": [
  {
   "cell_type": "markdown",
   "metadata": {},
   "source": [
    "# Riiid 인터뷰 문제\n",
    "## dependency가 없는 get_random 함수를 작성\n",
    "- 0이나 1을 리턴하는 get_one_or_zero를 사용(반드시?)  \n",
    "- 함수를 호출하면 0~ max_number-1 중 하나의 숫자를 랜덤하게 리턴  "
   ]
  },
  {
   "cell_type": "markdown",
   "metadata": {},
   "source": [
    "## 주어진 숫자를 순회하는 함수"
   ]
  },
  {
   "cell_type": "code",
   "execution_count": 12,
   "metadata": {},
   "outputs": [],
   "source": [
    "from random import randrange\n",
    "\n",
    "get_one_or_zero = lambda: randrange(2)"
   ]
  },
  {
   "cell_type": "code",
   "execution_count": 13,
   "metadata": {},
   "outputs": [],
   "source": [
    "def get_random(number):\n",
    "    def get_length(bin_list):\n",
    "        count = 0\n",
    "        for item in bin_list:\n",
    "            count += 1\n",
    "        return count\n",
    "    \n",
    "    def get_option_list(number):\n",
    "        limit = number - 1\n",
    "        select_option = []\n",
    "        while limit >= 0:\n",
    "            select_option.append(limit)\n",
    "            limit -=1\n",
    "        return select_option\n",
    "    \n",
    "    def run_sequence(option_list):\n",
    "        run = 0\n",
    "        index = 0\n",
    "        while run < get_length(option_list):\n",
    "            index += get_one_or_zero()\n",
    "            run += 1\n",
    "        return option_list[index-1]\n",
    "    \n",
    "    if number > 1:\n",
    "        output_list = get_option_list(number)\n",
    "        random_result = run_sequence(output_list)\n",
    "        return random_result\n",
    "    return 0"
   ]
  },
  {
   "cell_type": "markdown",
   "metadata": {},
   "source": [
    "## 함수 실행 결과\n",
    "### 숫자가 크면 클수록 시간이 엄청 늘어난다. 이건 쓰면 안된다. "
   ]
  },
  {
   "cell_type": "code",
   "execution_count": 14,
   "metadata": {},
   "outputs": [
    {
     "data": {
      "text/plain": [
       "0"
      ]
     },
     "execution_count": 14,
     "metadata": {},
     "output_type": "execute_result"
    }
   ],
   "source": [
    "get_random(1)"
   ]
  },
  {
   "cell_type": "markdown",
   "metadata": {},
   "source": [
    "# Binary로 전환해서 랜덤하게 만들어보는 것은 어떤지?\n",
    "- Binary 전환 시 각 인덱스가 가지는 숫자의 크기가 2배로 늘어남에따라  \n",
    "- 과연 이렇게 해야 1/n의 확률로 랜덤한 숫자가 나올까?"
   ]
  },
  {
   "cell_type": "code",
   "execution_count": 15,
   "metadata": {},
   "outputs": [],
   "source": [
    "def get_random_binary(number):\n",
    "    \n",
    "    def get_length(bin_list):\n",
    "        count = 0\n",
    "        for item in bin_list:\n",
    "            count += 1\n",
    "        return count\n",
    "    \n",
    "    def get_binary(number):\n",
    "        convert_to_bin = []\n",
    "        if number > 1:\n",
    "            while number >= 1:\n",
    "                convert_to_bin.append(number%2) \n",
    "                number = number//2\n",
    "            return convert_to_bin\n",
    "    \n",
    "    def get_decimal(bin_list):\n",
    "        convert_to_dec = 0\n",
    "        index = 0\n",
    "        while index < get_length(bin_list):\n",
    "            convert_to_dec += bin_list[index]*(2**index)\n",
    "            index += 1\n",
    "        return convert_to_dec\n",
    "    \n",
    "    def randomize(bin_list):\n",
    "        index = 0\n",
    "        while index < get_length(bin_list):\n",
    "            bin_list[index] = get_one_or_zero()\n",
    "            index += 1\n",
    "        return bin_list\n",
    "    \n",
    "    def random_filter(number):\n",
    "        binary = get_binary(number)\n",
    "        random_binary = randomize(binary)\n",
    "        decimal = get_decimal(random_binary)        \n",
    "        if decimal >= number:\n",
    "            return False\n",
    "        return decimal\n",
    "    \n",
    "    if number > 1:\n",
    "        output = random_filter(number)\n",
    "        while output is False:\n",
    "            output = random_filter(number)    \n",
    "        return output\n",
    "    return 0"
   ]
  },
  {
   "cell_type": "code",
   "execution_count": 16,
   "metadata": {},
   "outputs": [
    {
     "data": {
      "text/plain": [
       "3"
      ]
     },
     "execution_count": 16,
     "metadata": {},
     "output_type": "execute_result"
    }
   ],
   "source": [
    "get_random_binary(10)"
   ]
  },
  {
   "cell_type": "code",
   "execution_count": 11,
   "metadata": {},
   "outputs": [],
   "source": [
    "import time"
   ]
  },
  {
   "cell_type": "code",
   "execution_count": 43,
   "metadata": {},
   "outputs": [
    {
     "name": "stdout",
     "output_type": "stream",
     "text": [
      "0.0007901191711425781\n"
     ]
    }
   ],
   "source": [
    "start_time = time.time()\n",
    "get_random_binary(10000000000000000)\n",
    "end_time = time.time() - start_time\n",
    "print(end_time)"
   ]
  },
  {
   "cell_type": "code",
   "execution_count": 44,
   "metadata": {},
   "outputs": [
    {
     "name": "stdout",
     "output_type": "stream",
     "text": [
      "0.06412315368652344\n"
     ]
    }
   ],
   "source": [
    "start_time = time.time()\n",
    "get_random(1000)\n",
    "end_time = time.time() - start_time\n",
    "print(end_time)"
   ]
  },
  {
   "cell_type": "code",
   "execution_count": null,
   "metadata": {},
   "outputs": [],
   "source": []
  }
 ],
 "metadata": {
  "kernelspec": {
   "display_name": "Python 3",
   "language": "python",
   "name": "python3"
  },
  "language_info": {
   "codemirror_mode": {
    "name": "ipython",
    "version": 3
   },
   "file_extension": ".py",
   "mimetype": "text/x-python",
   "name": "python",
   "nbconvert_exporter": "python",
   "pygments_lexer": "ipython3",
   "version": "3.6.6"
  }
 },
 "nbformat": 4,
 "nbformat_minor": 2
}
